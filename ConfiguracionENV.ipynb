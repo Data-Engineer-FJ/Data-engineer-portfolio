{
 "cells": [
  {
   "cell_type": "markdown",
   "id": "1cfad194-dbef-49a7-9a2d-fb77899f6fea",
   "metadata": {},
   "source": [
    "### 1. **Instalar dependencias necesarias**\n",
    "A. Instalar Java (ya tienes Java 11.0.26)\n",
    "Como ya tienes Java 11 instalado, asegúrate de que está correctamente configurado:"
   ]
  },
  {
   "cell_type": "code",
   "execution_count": null,
   "id": "83d3d491-7c9f-4e1b-9b00-77f0438d016d",
   "metadata": {},
   "outputs": [],
   "source": [
    "java -version"
   ]
  },
  {
   "cell_type": "markdown",
   "id": "d9c417ff-838c-488f-a661-fd0eebcd4ecd",
   "metadata": {},
   "source": [
    " Deberías ver algo similar a:"
   ]
  },
  {
   "cell_type": "code",
   "execution_count": null,
   "id": "303b7b7c-3d43-46b7-ab7c-b76d058a6ac4",
   "metadata": {},
   "outputs": [],
   "source": [
    "openjdk version \"11.0.26\" 2021-07-20\n",
    "OpenJDK Runtime Environment (build 11.0.26+10)\n",
    "OpenJDK 64-Bit Server VM (build 11.0.26+10, mixed mode)"
   ]
  },
  {
   "cell_type": "markdown",
   "id": "811b7a53-5b0e-4ff6-a0d0-c10b3467f95c",
   "metadata": {},
   "source": [
    "Si no tienes Java o necesitas actualizarlo, puedes instalarlo con:"
   ]
  },
  {
   "cell_type": "code",
   "execution_count": null,
   "id": "28548ed0-b451-47b5-81d0-76a01a6abbc4",
   "metadata": {},
   "outputs": [],
   "source": [
    "sudo apt update\n",
    "sudo apt install openjdk-11-jdk"
   ]
  },
  {
   "cell_type": "markdown",
   "id": "750a2806-a506-4fd2-8a40-335c24c1ef7a",
   "metadata": {},
   "source": [
    "### B. **Instalar Scala (ya tienes Scala 2.12.18)**\n",
    "Asegúrate de que Scala está instalado correctamente:"
   ]
  },
  {
   "cell_type": "code",
   "execution_count": null,
   "id": "33034031-6d59-4e32-b79c-70adc67ed492",
   "metadata": {},
   "outputs": [],
   "source": [
    "scala -version"
   ]
  },
  {
   "cell_type": "markdown",
   "id": "2abba0a5-1414-4d20-b9be-832af7ee1de5",
   "metadata": {},
   "source": [
    "Si no tienes Scala o necesitas instalarlo, puedes hacerlo con:"
   ]
  },
  {
   "cell_type": "code",
   "execution_count": null,
   "id": "f840a8d7-12bb-48ef-b926-0e5faae1a351",
   "metadata": {},
   "outputs": [],
   "source": [
    "sudo apt update\n",
    "sudo apt install scala"
   ]
  },
  {
   "cell_type": "markdown",
   "id": "96191d7a-6365-4a6f-8db6-ab03c3cb17ab",
   "metadata": {},
   "source": [
    "### 2. **Instalar Apache Spark (ya tienes Spark 3.53)**\n",
    "Para instalar Spark, sigue estos pasos si no lo tienes configurado:\n",
    "\n",
    "1.Descarga Apache Spark desde su sitio oficial:"
   ]
  },
  {
   "cell_type": "code",
   "execution_count": null,
   "id": "8e13857a-be27-4f5d-97e8-77d633f89595",
   "metadata": {},
   "outputs": [],
   "source": [
    "wget https://archive.apache.org/dist/spark/spark-3.5.3/spark-3.5.3-bin-hadoop3.2.tgz"
   ]
  },
  {
   "cell_type": "markdown",
   "id": "c41873cb-c1e7-4b94-a80c-1ba9b572f9b8",
   "metadata": {},
   "source": [
    "2.Extrae el archivo descargado:"
   ]
  },
  {
   "cell_type": "code",
   "execution_count": null,
   "id": "549f0c65-bee4-4051-b1cb-c0bada8baa3b",
   "metadata": {},
   "outputs": [],
   "source": [
    "tar xvf spark-3.5.3-bin-hadoop3.2.tgz"
   ]
  },
  {
   "cell_type": "markdown",
   "id": "2d816d65-a615-47b0-9865-0ed87c1b6b93",
   "metadata": {},
   "source": [
    "3.Mueve el directorio extraído a una ubicación más conveniente:"
   ]
  },
  {
   "cell_type": "code",
   "execution_count": null,
   "id": "cf82192b-17c1-4acd-9891-7e635b1e0f20",
   "metadata": {},
   "outputs": [],
   "source": [
    "sudo mv spark-3.5.3-bin-hadoop3.2 /opt/spark"
   ]
  },
  {
   "cell_type": "markdown",
   "id": "c4a9467b-e8c7-471c-9e06-464c6adb463f",
   "metadata": {},
   "source": [
    "4.Configura las variables de entorno para Spark y Hadoop editando el archivo ~/.bashrc:"
   ]
  },
  {
   "cell_type": "code",
   "execution_count": null,
   "id": "0ac00d0e-6f9c-4915-b8b0-7c46b1099af8",
   "metadata": {},
   "outputs": [],
   "source": [
    "nano ~/.bashrc"
   ]
  },
  {
   "cell_type": "markdown",
   "id": "3ea9c18d-4bdb-455e-8964-6091a23e8e2b",
   "metadata": {},
   "source": [
    "Agrega las siguientes líneas al final del archivo:"
   ]
  },
  {
   "cell_type": "code",
   "execution_count": null,
   "id": "6e7163ff-701a-421a-8316-b7143ddd4f34",
   "metadata": {},
   "outputs": [],
   "source": [
    "export SPARK_HOME=/opt/spark\n",
    "export HADOOP_CONF_DIR=/opt/spark/conf\n",
    "export PATH=$PATH:$SPARK_HOME/bin:$SPARK_HOME/sbin\n"
   ]
  },
  {
   "cell_type": "markdown",
   "id": "5bba013f-c994-4126-a343-c6e097108641",
   "metadata": {},
   "source": [
    "5.Aplica los cambios:"
   ]
  },
  {
   "cell_type": "code",
   "execution_count": null,
   "id": "c50fb268-7bdd-4ee2-b8b2-08da13fe3fb6",
   "metadata": {},
   "outputs": [],
   "source": [
    "source ~/.bashrc"
   ]
  },
  {
   "cell_type": "markdown",
   "id": "723681a9-2763-44ac-b183-13944abe2e86",
   "metadata": {},
   "source": [
    "6.Verifica que Spark se haya instalado correctamente:"
   ]
  },
  {
   "cell_type": "code",
   "execution_count": null,
   "id": "e0db562c-1393-4287-8186-f74e88cc8ee5",
   "metadata": {},
   "outputs": [],
   "source": [
    "spark-shell"
   ]
  },
  {
   "cell_type": "markdown",
   "id": "6b3bbcbc-43ea-4669-9626-7ecd0b35e3f9",
   "metadata": {},
   "source": [
    "Si todo está bien, deberías ver el prompt interactivo de Spark."
   ]
  }
 ],
 "metadata": {
  "kernelspec": {
   "display_name": "Python 3 (ipykernel)",
   "language": "python",
   "name": "python3"
  },
  "language_info": {
   "codemirror_mode": {
    "name": "ipython",
    "version": 3
   },
   "file_extension": ".py",
   "mimetype": "text/x-python",
   "name": "python",
   "nbconvert_exporter": "python",
   "pygments_lexer": "ipython3",
   "version": "3.12.3"
  }
 },
 "nbformat": 4,
 "nbformat_minor": 5
}
