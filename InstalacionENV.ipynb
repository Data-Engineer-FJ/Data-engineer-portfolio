{
 "cells": [
  {
   "cell_type": "markdown",
   "id": "4be60680-5fac-4d14-80cb-4ff9c0dcc953",
   "metadata": {},
   "source": [
    "## 3. **Crear un entorno virtual para Python**\n",
    "\n",
    "Ahora vamos a crear un entorno virtual con `venv` para instalar PySpark y otras dependencias."
   ]
  },
  {
   "cell_type": "markdown",
   "id": "e10216ed-8040-4d56-96c8-5875a187678d",
   "metadata": {},
   "source": [
    "1. Instalar virtualenv si no lo tienes:\n",
    "Primero, asegúrate de que virtualenv esté instalado en tu sistema. Si no lo tienes, puedes instalarlo con el siguiente comando:"
   ]
  },
  {
   "cell_type": "code",
   "execution_count": null,
   "id": "b55027da-0d9f-45af-a78b-f76996614126",
   "metadata": {},
   "outputs": [],
   "source": [
    "sudo apt install python3-venv"
   ]
  },
  {
   "cell_type": "markdown",
   "id": "17fbc4ee-572b-4147-bff4-f7c7367827b7",
   "metadata": {},
   "source": [
    "2. Crear un entorno virtual:"
   ]
  },
  {
   "cell_type": "code",
   "execution_count": null,
   "id": "7a396ffb-51f7-4981-9607-cd55a1d48b73",
   "metadata": {},
   "outputs": [],
   "source": [
    "python3 -m venv pyspark_env"
   ]
  },
  {
   "cell_type": "markdown",
   "id": "ee914e30-85c8-4536-bf85-553a39b12ebc",
   "metadata": {},
   "source": [
    "3. Activar el entorno virtual:"
   ]
  },
  {
   "cell_type": "code",
   "execution_count": null,
   "id": "c8f08f73-e4ae-461a-ba22-402c8b3f8eb0",
   "metadata": {},
   "outputs": [],
   "source": [
    "source pyspark_env/bin/activate"
   ]
  },
  {
   "cell_type": "markdown",
   "id": "7094f02c-074b-4f8c-97d9-ebdeae5e1c33",
   "metadata": {},
   "source": [
    "4. Instalar PySpark:"
   ]
  },
  {
   "cell_type": "code",
   "execution_count": null,
   "id": "f295139f-575e-4b4f-b0ce-819cfaff9939",
   "metadata": {},
   "outputs": [],
   "source": [
    "pip install pyspark"
   ]
  },
  {
   "cell_type": "markdown",
   "id": "1487fa8a-a5b7-4ec3-8958-1a2266055b28",
   "metadata": {},
   "source": [
    "### 4. **Instalar Jupyter Notebook**\n",
    "Si aún no tienes Jupyter Notebook, instálalo dentro de tu entorno virtual:"
   ]
  },
  {
   "cell_type": "code",
   "execution_count": null,
   "id": "c2eea53a-8cc3-442b-b69a-ba9adb9a1a8d",
   "metadata": {},
   "outputs": [],
   "source": [
    "pip install notebook\n",
    "pip install jupyterlab"
   ]
  },
  {
   "cell_type": "markdown",
   "id": "47f8cc4c-1e95-47c9-98a7-519ce790472c",
   "metadata": {},
   "source": [
    "### 5. **Configurar PySpark en Jupyter**\n",
    "Para usar PySpark en Jupyter, necesitamos configurar algunas variables de entorno.\n",
    "\n",
    "1.Crea un archivo de configuración de Jupyter:"
   ]
  },
  {
   "cell_type": "code",
   "execution_count": null,
   "id": "e1439c1e-5d9d-4c64-8bbb-b930571bd781",
   "metadata": {},
   "outputs": [],
   "source": [
    "nano ~/.bashrc"
   ]
  },
  {
   "cell_type": "markdown",
   "id": "041918c0-506c-4fb6-8d17-5df50c7e7cc1",
   "metadata": {},
   "source": [
    "Agrega las siguientes líneas al final del archivo:"
   ]
  },
  {
   "cell_type": "code",
   "execution_count": null,
   "id": "35e12fa4-4eaa-42f0-935e-2a929c04c72f",
   "metadata": {},
   "outputs": [],
   "source": [
    "export PYSPARK_PYTHON=python3\n",
    "export PYSPARK_DRIVER_PYTHON=jupyter\n",
    "export PYSPARK_DRIVER_PYTHON_OPTS='lab'"
   ]
  },
  {
   "cell_type": "markdown",
   "id": "6a9a89b0-a09b-49d5-9ad5-a033f0b5e966",
   "metadata": {},
   "source": [
    "2.Aplica los cambios:"
   ]
  },
  {
   "cell_type": "code",
   "execution_count": null,
   "id": "43198b64-a7a7-4da5-a8bd-0651214f89a6",
   "metadata": {},
   "outputs": [],
   "source": [
    "source ~/.bashrc"
   ]
  },
  {
   "cell_type": "markdown",
   "id": "4a4f4621-5635-4aa7-89af-b05e059b6786",
   "metadata": {},
   "source": [
    "### 6. **Iniciar Jupyter con PySpark**\n",
    "Con el entorno activado, puedes iniciar Jupyter Notebook con PySpark:"
   ]
  },
  {
   "cell_type": "code",
   "execution_count": null,
   "id": "bab399c0-f4bd-4bfe-8abe-194b7d953525",
   "metadata": {},
   "outputs": [],
   "source": [
    "pyspark"
   ]
  },
  {
   "cell_type": "markdown",
   "id": "a3990065-668b-4f03-bde9-d1e3308fe2e3",
   "metadata": {},
   "source": [
    "Esto abrirá Jupyter Notebook en tu navegador, donde podrás comenzar a trabajar con PySpark."
   ]
  },
  {
   "cell_type": "markdown",
   "id": "43fa1b76-e56e-4c2a-ad18-e65897a2917e",
   "metadata": {},
   "source": [
    "## Resumen de tu entorno de trabajo:\n",
    "\n",
    "- **Sistema Operativo**: Linux Ubuntu 24\n",
    "- **Python**: 3.12.3\n",
    "- **Java**: 11.0.26\n",
    "- **Apache Spark**: 3.53\n",
    "- **Scala**: 2.12.18\n",
    "- **Usuario**: Fxx (fxx@fxx-Legion-Slim-5-1xxxxx)\n",
    "\n",
    "Con estos pasos deberías tener un entorno completamente funcional para trabajar con PySpark, Apache Spark y Jupyter Notebook en tu máquina Ubuntu. ¡A disfrutar de la implementación!\n"
   ]
  }
 ],
 "metadata": {
  "kernelspec": {
   "display_name": "Python 3 (ipykernel)",
   "language": "python",
   "name": "python3"
  },
  "language_info": {
   "codemirror_mode": {
    "name": "ipython",
    "version": 3
   },
   "file_extension": ".py",
   "mimetype": "text/x-python",
   "name": "python",
   "nbconvert_exporter": "python",
   "pygments_lexer": "ipython3",
   "version": "3.12.3"
  }
 },
 "nbformat": 4,
 "nbformat_minor": 5
}
